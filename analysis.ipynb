{
 "cells": [
  {
   "cell_type": "markdown",
   "metadata": {},
   "source": [
    "# Summary analysis\n",
    "Mouna Ammar & Paul Gazel"
   ]
  },
  {
   "cell_type": "markdown",
   "metadata": {},
   "source": [
    "Bla bla bla introduction"
   ]
  },
  {
   "cell_type": "code",
   "execution_count": 5,
   "metadata": {},
   "outputs": [],
   "source": [
    "from pymongo import MongoClient\n",
    "from bson.son import SON\n",
    "import pymongo\n",
    "\n",
    "from datetime import datetime"
   ]
  },
  {
   "cell_type": "code",
   "execution_count": 6,
   "metadata": {},
   "outputs": [
    {
     "name": "stdout",
     "output_type": "stream",
     "text": [
      "['Covid_db22', 'admin', 'config', 'local']\n"
     ]
    }
   ],
   "source": [
    "client = MongoClient(host='localhost', port=27017, maxPoolSize=200)\n",
    "print(client.list_database_names())\n",
    "\n",
    "covidDB = client['Covid_db22'].covid_data22"
   ]
  },
  {
   "cell_type": "code",
   "execution_count": 7,
   "metadata": {},
   "outputs": [
    {
     "data": {
      "text/plain": [
       "43229"
      ]
     },
     "execution_count": 7,
     "metadata": {},
     "output_type": "execute_result"
    }
   ],
   "source": [
    "covidDB.count_documents({})"
   ]
  },
  {
   "cell_type": "markdown",
   "metadata": {},
   "source": [
    "Comments on correctly importing -> only 43229 docs not same as summary explained because when inserting 2897 where considered duplicates. 46126 - 2897 = 43229\n",
    "\n",
    "Introduction to what we will do"
   ]
  },
  {
   "cell_type": "code",
   "execution_count": 8,
   "metadata": {},
   "outputs": [
    {
     "data": {
      "text/plain": [
       "{'_id': ObjectId('61c20d9f913096a49a9e2b5b'),\n",
       " 'source': {'id': 'nbc-news', 'name': 'NBC News'},\n",
       " 'author': 'Ilene Prusher',\n",
       " 'title': \"The best gifts don't come in shiny boxes\",\n",
       " 'description': 'This holiday season we have an opportunity to extend our time together beyond watching someone’s face as they tear the wrapping off their booty.',\n",
       " 'publishedAt': '2021-12-12T10:30:18Z',\n",
       " 'content': 'Supply chains are all gummed up, leaving some shelves as empty as the toilet paper aisles of March 2020. Prices rose by an alarming 6.8 percent last month, the highest annual inflation rate in almost… [+5211 chars]'}"
      ]
     },
     "execution_count": 8,
     "metadata": {},
     "output_type": "execute_result"
    }
   ],
   "source": [
    "covidDB.find_one()"
   ]
  },
  {
   "cell_type": "code",
   "execution_count": null,
   "metadata": {},
   "outputs": [],
   "source": [
    "# Start by plotting over time\n",
    "\n",
    "pipeline = [\n",
    "    { '$group': {\n",
    "    '_id': {'$dateToString': { 'date': { '$toDate': '$publishedAt' }, 'format': '%Y-%m-%d' } },\n",
    "    'count': { '$sum': 1 }\n",
    "  }},\n",
    "    {'$sort': SON([('_id', pymongo.ASCENDING)])}\n",
    "]\n",
    "\n",
    "res = covidDB.aggregate(pipeline)\n",
    "\n",
    "x = []\n",
    "y = []\n",
    "for sample in res:\n",
    "    x.append(datetime.strptime(sample['_id'], '%Y-%m-%d'))\n",
    "    y.append(sample['count'])\n",
    "    \n",
    "\n",
    "fig = go.Figure([go.Scatter(x=x, y=y)])\n",
    "fig.update_layout(\n",
    "    title=\"Number of articles over time\",\n",
    "    xaxis_title=\"Time (in days)\",\n",
    "    yaxis_title=\"Number of articles\"\n",
    ")\n",
    "fig.show()"
   ]
  },
  {
   "cell_type": "code",
   "execution_count": null,
   "metadata": {},
   "outputs": [],
   "source": [
    "# Look for most repeated numbers for total and then each category/language/country (or the most relevant one)"
   ]
  },
  {
   "cell_type": "code",
   "execution_count": 53,
   "metadata": {},
   "outputs": [],
   "source": [
    "from collections import Counter\n",
    "from nltk.tokenize import sent_tokenize, word_tokenize\n",
    "\n",
    "import nltk\n",
    "from nltk.corpus import stopwords\n",
    "\n",
    "def get_counter_from_query(query, attribute):\n",
    "    my_counter = Counter()\n",
    "    \n",
    "    for obj in covidDB.find(query):\n",
    "        if obj[attribute]:\n",
    "            # Tokenize and give it to the counter\n",
    "            tokens = word_tokenize(obj[attribute].lower())\n",
    "            my_counter.update(tokens)\n",
    "    \n",
    "    # remove stop words\n",
    "    stops = set(stopwords.words('english'))\n",
    "    for word in stops:\n",
    "        if word in my_counter:\n",
    "            del my_counter[word]\n",
    "    \n",
    "    # Remove items under size 2 chars\n",
    "    del_list =[]\n",
    "    for key in my_counter:\n",
    "        if len(key) <= 2:\n",
    "            del_list.append(key)\n",
    "\n",
    "    for item in del_list:\n",
    "        del my_counter[item]\n",
    "    \n",
    "    return my_counter\n",
    "\n",
    "\n",
    "\n",
    "\n",
    "need_translation = ['aftenposten', 'ansa', 'argaam', 'ary-news', 'bild', 'blasting-news-br', 'cnn-es', 'der-tagesspiegel', 'die-zeit', 'el-mundo', 'focus', 'globo', 'google-news-ar', 'google-news-br', 'google-news-fr', 'google-news-is', 'google-news-it', 'google-news-ru', 'google-news-sa', 'goteborgs-posten', 'gruenderszene', 'handelsblatt', 'il-sole-24-ore', 'infobae', 'info-money', 'la-gaceta', 'la-nacion', 'la-repubblica', 'le-monde', 'lenta', 'lequipe', 'les-echos', 'liberation', 'marca', 'nrk', 'rbc', 'rt', 'rtl-nieuws', 'sabq', 'spiegel-online', 'svenska-dagbladet', 't3n', 'techcrunch-cn', 'wired-de', 'wirtschafts-woche', 'xinhua-net', 'ynet']\n",
    "test = {'source.id': {'$nin': need_translation}}\n",
    "att = 'title'\n",
    "\n",
    "count = get_counter_from_query(test, att)"
   ]
  },
  {
   "cell_type": "code",
   "execution_count": 55,
   "metadata": {},
   "outputs": [
    {
     "data": {
      "text/plain": [
       "[('covid', 4042),\n",
       " ('covid-19', 3859),\n",
       " ('omicron', 2722),\n",
       " ('new', 2414),\n",
       " ('reuters', 2297),\n",
       " ('vaccine', 1772),\n",
       " ('variant', 1628),\n",
       " ('says', 1612),\n",
       " ('cases', 1396),\n",
       " ('biden', 1164),\n",
       " ('news24.com', 736),\n",
       " ('travel', 675),\n",
       " ('amid', 631),\n",
       " ('india', 620),\n",
       " ('health', 616),\n",
       " ('pandemic', 592),\n",
       " ('south', 571),\n",
       " ('first', 566),\n",
       " ('africa', 559),\n",
       " ('booster', 553)]"
      ]
     },
     "execution_count": 55,
     "metadata": {},
     "output_type": "execute_result"
    }
   ],
   "source": [
    "count.most_common(20)"
   ]
  },
  {
   "cell_type": "code",
   "execution_count": 61,
   "metadata": {},
   "outputs": [],
   "source": [
    "from nltk import ne_chunk, pos_tag, word_tokenize\n",
    "from nltk.tree import Tree\n",
    "\n",
    "def get_name_entities(text):\n",
    "    chunked = ne_chunk(pos_tag(word_tokenize(text)))\n",
    "    continuous_chunk = []\n",
    "    current_chunk = []\n",
    "    \n",
    "    for i in chunked:\n",
    "        if type(i) == Tree:\n",
    "            current_chunk.append(\" \".join([token for token, pos in i.leaves()]))\n",
    "        if current_chunk:\n",
    "            named_entity = \" \".join(current_chunk)\n",
    "            continuous_chunk.append(named_entity)\n",
    "            current_chunk = []\n",
    "        else:\n",
    "            continue\n",
    "    return continuous_chunk\n",
    "\n",
    "def get_counter_name_entities_from_query(query, attribute):\n",
    "    my_counter = Counter()\n",
    "    \n",
    "    for obj in covidDB.find(query):\n",
    "        if obj[attribute]:\n",
    "            # Tokenize and give it to the counter\n",
    "            name_entities = get_name_entities(obj[attribute].lower())\n",
    "            my_counter.update([x.lower() for x in name_entities])\n",
    "    \n",
    "    return my_counter\n"
   ]
  },
  {
   "cell_type": "code",
   "execution_count": 62,
   "metadata": {},
   "outputs": [],
   "source": [
    "need_translation = ['aftenposten', 'ansa', 'argaam', 'ary-news', 'bild', 'blasting-news-br', 'cnn-es', 'der-tagesspiegel', 'die-zeit', 'el-mundo', 'focus', 'globo', 'google-news-ar', 'google-news-br', 'google-news-fr', 'google-news-is', 'google-news-it', 'google-news-ru', 'google-news-sa', 'goteborgs-posten', 'gruenderszene', 'handelsblatt', 'il-sole-24-ore', 'infobae', 'info-money', 'la-gaceta', 'la-nacion', 'la-repubblica', 'le-monde', 'lenta', 'lequipe', 'les-echos', 'liberation', 'marca', 'nrk', 'rbc', 'rt', 'rtl-nieuws', 'sabq', 'spiegel-online', 'svenska-dagbladet', 't3n', 'techcrunch-cn', 'wired-de', 'wirtschafts-woche', 'xinhua-net', 'ynet']\n",
    "test = {'source.id': {'$nin': need_translation}}\n",
    "att = 'title'\n",
    "\n",
    "count = get_counter_name_entities_from_query(test, att)"
   ]
  },
  {
   "cell_type": "code",
   "execution_count": 63,
   "metadata": {},
   "outputs": [
    {
     "data": {
      "text/plain": [
       "[('u.s.', 533),\n",
       " ('u.s', 21),\n",
       " ('covid-19', 15),\n",
       " ('u.n.', 10),\n",
       " ('u.s.-china', 5),\n",
       " ('china', 4),\n",
       " ('d.c.', 3),\n",
       " ('न', 2),\n",
       " ('russia', 2),\n",
       " ('pfizer/biontech', 2),\n",
       " ('st.', 2),\n",
       " ('brother-in-law', 2),\n",
       " ('l.a.', 2),\n",
       " ('china-u.s.', 2),\n",
       " ('on-site', 2),\n",
       " (\"'disgraced\", 1),\n",
       " ('u.k.', 1),\n",
       " ('इन', 1),\n",
       " ('u.s.-canada', 1),\n",
       " ('north-south', 1)]"
      ]
     },
     "execution_count": 63,
     "metadata": {},
     "output_type": "execute_result"
    }
   ],
   "source": [
    "count.most_common(20)"
   ]
  },
  {
   "cell_type": "code",
   "execution_count": null,
   "metadata": {},
   "outputs": [],
   "source": []
  }
 ],
 "metadata": {
  "kernelspec": {
   "display_name": "Python 3",
   "language": "python",
   "name": "python3"
  },
  "language_info": {
   "codemirror_mode": {
    "name": "ipython",
    "version": 3
   },
   "file_extension": ".py",
   "mimetype": "text/x-python",
   "name": "python",
   "nbconvert_exporter": "python",
   "pygments_lexer": "ipython3",
   "version": "3.7.4"
  }
 },
 "nbformat": 4,
 "nbformat_minor": 2
}
